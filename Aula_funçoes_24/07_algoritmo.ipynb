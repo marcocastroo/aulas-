{
  "nbformat": 4,
  "nbformat_minor": 0,
  "metadata": {
    "colab": {
      "provenance": [],
      "authorship_tag": "ABX9TyOCLRci3LStqPdl/5cKZ1e/",
      "include_colab_link": true
    },
    "kernelspec": {
      "name": "python3",
      "display_name": "Python 3"
    },
    "language_info": {
      "name": "python"
    }
  },
  "cells": [
    {
      "cell_type": "markdown",
      "metadata": {
        "id": "view-in-github",
        "colab_type": "text"
      },
      "source": [
        "<a href=\"https://colab.research.google.com/github/marcocastroo/aulas-/blob/main/Aula_fun%C3%A7oes_24/07_algoritmo.ipynb\" target=\"_parent\"><img src=\"https://colab.research.google.com/assets/colab-badge.svg\" alt=\"Open In Colab\"/></a>"
      ]
    },
    {
      "cell_type": "code",
      "execution_count": null,
      "metadata": {
        "colab": {
          "base_uri": "https://localhost:8080/"
        },
        "id": "ASVv3CmEUjPv",
        "outputId": "67390001-7bae-438b-bba5-2a89611ed9f6"
      },
      "outputs": [
        {
          "output_type": "stream",
          "name": "stdout",
          "text": [
            "True\n",
            "False\n",
            "Digite um número par: 3\n",
            "O número é impar\n"
          ]
        }
      ],
      "source": [
        "#função de retorno par\n",
        "def epar(num):\n",
        "    if num % 2 == 0:\n",
        "        return True\n",
        "    else:\n",
        "        return False\n",
        "\n",
        "print(epar(4))\n",
        "print(epar(3))\n",
        "\n",
        "valor = int(input(\"Digite um número par: \"))\n",
        "if epar(valor):\n",
        "    print(\"O número é par\")\n",
        "else:\n",
        "    print(\"O número é impar\")"
      ]
    },
    {
      "cell_type": "code",
      "source": [
        "#funcção para verificar se um número é primo\n",
        "def primo(num):\n",
        "    for i in range(2, num):\n",
        "        if num % i == 0:\n",
        "            return False\n",
        "    return True\n",
        "\n",
        "print(primo(4))\n",
        "print(primo(5))\n",
        "\n",
        "valor = int(input(\"Digite um número inteiro: \"))\n",
        "if primo(valor):\n",
        "    print(\"O número é primo\")\n",
        "else:\n",
        "    print(\"O número não é primo\")"
      ],
      "metadata": {
        "colab": {
          "base_uri": "https://localhost:8080/"
        },
        "id": "tmY8ImMcWzxM",
        "outputId": "d2926d90-3a09-4d26-8fc0-32b960a48ba9"
      },
      "execution_count": null,
      "outputs": [
        {
          "output_type": "stream",
          "name": "stdout",
          "text": [
            "False\n",
            "True\n",
            "Digite um número inteiro: 13\n",
            "O número é primo\n"
          ]
        }
      ]
    },
    {
      "cell_type": "code",
      "source": [
        "#função de Fibbonaci\n",
        "def fibbonaci(n):\n",
        "  seq = [1, 1]\n",
        "  for i in range(2, n):\n",
        "    seq.append(seq[-1] + seq[-2])\n",
        "  return seq\n",
        "print(fibbonaci(12))\n"
      ],
      "metadata": {
        "colab": {
          "base_uri": "https://localhost:8080/"
        },
        "id": "qV_uvjQYgMtN",
        "outputId": "5be7a708-38f6-41bd-b457-962076582402"
      },
      "execution_count": null,
      "outputs": [
        {
          "output_type": "stream",
          "name": "stdout",
          "text": [
            "[1, 1, 2, 3, 5, 8, 13, 21, 34, 55, 89, 144]\n"
          ]
        }
      ]
    },
    {
      "cell_type": "code",
      "source": [
        "#váriavel global e váriavel local"
      ],
      "metadata": {
        "id": "7RwfGa1qnQeD"
      },
      "execution_count": null,
      "outputs": []
    },
    {
      "cell_type": "code",
      "source": [
        "def embaralha(palavra):\n",
        "  import random\n",
        "  lista = list(palavra)\n",
        "  print(lista)\n",
        "  random.shuffle(lista)\n",
        "  print(lista)\n",
        "  return \"\".join(lista)\n",
        "\n",
        "print(embaralha(\"massassuchestts\"))\n"
      ],
      "metadata": {
        "id": "kMzCmD1eq4X3",
        "outputId": "bf0f3ac5-842c-4708-d149-6d75e3121c0d",
        "colab": {
          "base_uri": "https://localhost:8080/"
        }
      },
      "execution_count": null,
      "outputs": [
        {
          "output_type": "stream",
          "name": "stdout",
          "text": [
            "['m', 'a', 's', 's', 'a', 's', 's', 'u', 'c', 'h', 'e', 's', 't', 't', 's']\n",
            "['t', 'e', 's', 'u', 's', 't', 's', 's', 'h', 's', 'a', 's', 'm', 'c', 'a']\n",
            "tesustsshsasmca\n"
          ]
        }
      ]
    }
  ]
}